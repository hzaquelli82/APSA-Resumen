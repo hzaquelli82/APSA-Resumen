{
 "cells": [
  {
   "cell_type": "markdown",
   "id": "24dcfb12",
   "metadata": {},
   "source": [
    "# Nuevo esquema DB en Postgresql\n",
    "\n",
    "EL siguiente Notebook será para cargar y preparar un esquema en postgresql con datos de productos relevantes para otros análisis"
   ]
  },
  {
   "cell_type": "markdown",
   "id": "59ebed54",
   "metadata": {},
   "source": [
    "## En MySQL db8100"
   ]
  },
  {
   "cell_type": "code",
   "execution_count": 3,
   "id": "c323329a",
   "metadata": {},
   "outputs": [],
   "source": [
    "import MySQLdb\n",
    "from datetime import datetime, timedelta\n",
    "import pandas as pd\n",
    "\n",
    "db = MySQLdb.connect(host=\"192.168.0.12\",    # tu host, usualmente localhost\n",
    "                     user=\"operario\",         # tu usuario\n",
    "                     passwd=\"\",  # tu password\n",
    "                     db=\"dbp8100\")        # el nombre de la base de datos\n",
    "\n",
    "# Debes crear un objeto Cursor. Te permitirá\n",
    "# ejecutar todos los queries que necesitas\n",
    "cur = db.cursor()"
   ]
  },
  {
   "cell_type": "code",
   "execution_count": 4,
   "id": "69f89d7b",
   "metadata": {},
   "outputs": [
    {
     "data": {
      "text/plain": [
       "1187"
      ]
     },
     "execution_count": 4,
     "metadata": {},
     "output_type": "execute_result"
    }
   ],
   "source": [
    "cur.execute(\"\"\"\n",
    "    SELECT \n",
    "        NroID,\n",
    "        Codigo,\n",
    "        Nombre\n",
    "    FROM dbp8100.formulas\n",
    "\"\"\")"
   ]
  },
  {
   "cell_type": "code",
   "execution_count": 5,
   "id": "f11259fd",
   "metadata": {},
   "outputs": [],
   "source": [
    "# Obtener los resultados\n",
    "resultados = cur.fetchall()\n",
    "# Obtener los nombres de las columnas\n",
    "columnas = [desc[0] for desc in cur.description]\n",
    "\n",
    "# Crear un DataFrame de pandas\n",
    "df = pd.DataFrame(resultados, columns=columnas)"
   ]
  },
  {
   "cell_type": "code",
   "execution_count": 6,
   "id": "321bbf9e",
   "metadata": {},
   "outputs": [
    {
     "data": {
      "text/html": [
       "<div>\n",
       "<style scoped>\n",
       "    .dataframe tbody tr th:only-of-type {\n",
       "        vertical-align: middle;\n",
       "    }\n",
       "\n",
       "    .dataframe tbody tr th {\n",
       "        vertical-align: top;\n",
       "    }\n",
       "\n",
       "    .dataframe thead th {\n",
       "        text-align: right;\n",
       "    }\n",
       "</style>\n",
       "<table border=\"1\" class=\"dataframe\">\n",
       "  <thead>\n",
       "    <tr style=\"text-align: right;\">\n",
       "      <th></th>\n",
       "      <th>NroID</th>\n",
       "      <th>Codigo</th>\n",
       "      <th>Nombre</th>\n",
       "    </tr>\n",
       "  </thead>\n",
       "  <tbody>\n",
       "    <tr>\n",
       "      <th>0</th>\n",
       "      <td>35</td>\n",
       "      <td>None</td>\n",
       "      <td>FIBROMIXER 300  19% A.A. -1</td>\n",
       "    </tr>\n",
       "    <tr>\n",
       "      <th>1</th>\n",
       "      <td>36</td>\n",
       "      <td>3-K</td>\n",
       "      <td>VACA LECHERA 16% anulada no hacer</td>\n",
       "    </tr>\n",
       "    <tr>\n",
       "      <th>2</th>\n",
       "      <td>39</td>\n",
       "      <td>07-009</td>\n",
       "      <td>DEST. PRECOZ MEL. 0%A.A CASC DE SOJA</td>\n",
       "    </tr>\n",
       "    <tr>\n",
       "      <th>3</th>\n",
       "      <td>40</td>\n",
       "      <td>08-020</td>\n",
       "      <td>INICIADOR MELAZA (21 %A.A.)</td>\n",
       "    </tr>\n",
       "    <tr>\n",
       "      <th>4</th>\n",
       "      <td>41</td>\n",
       "      <td>09-H</td>\n",
       "      <td>C.M. URUGUAY REFORZADO 10%</td>\n",
       "    </tr>\n",
       "  </tbody>\n",
       "</table>\n",
       "</div>"
      ],
      "text/plain": [
       "   NroID  Codigo                                Nombre\n",
       "0     35    None           FIBROMIXER 300  19% A.A. -1\n",
       "1     36     3-K     VACA LECHERA 16% anulada no hacer\n",
       "2     39  07-009  DEST. PRECOZ MEL. 0%A.A CASC DE SOJA\n",
       "3     40  08-020          INICIADOR MELAZA (21 %A.A.) \n",
       "4     41    09-H            C.M. URUGUAY REFORZADO 10%"
      ]
     },
     "execution_count": 6,
     "metadata": {},
     "output_type": "execute_result"
    }
   ],
   "source": [
    "df.head()"
   ]
  },
  {
   "cell_type": "code",
   "execution_count": 7,
   "id": "4e45c126",
   "metadata": {},
   "outputs": [
    {
     "data": {
      "text/html": [
       "<div>\n",
       "<style scoped>\n",
       "    .dataframe tbody tr th:only-of-type {\n",
       "        vertical-align: middle;\n",
       "    }\n",
       "\n",
       "    .dataframe tbody tr th {\n",
       "        vertical-align: top;\n",
       "    }\n",
       "\n",
       "    .dataframe thead th {\n",
       "        text-align: right;\n",
       "    }\n",
       "</style>\n",
       "<table border=\"1\" class=\"dataframe\">\n",
       "  <thead>\n",
       "    <tr style=\"text-align: right;\">\n",
       "      <th></th>\n",
       "      <th>NroID</th>\n",
       "      <th>Codigo</th>\n",
       "      <th>Nombre</th>\n",
       "      <th>melaza</th>\n",
       "      <th>presentacion</th>\n",
       "    </tr>\n",
       "  </thead>\n",
       "  <tbody>\n",
       "    <tr>\n",
       "      <th>0</th>\n",
       "      <td>35</td>\n",
       "      <td>None</td>\n",
       "      <td>FIBROMIXER 300  19% A.A. -1</td>\n",
       "      <td>0</td>\n",
       "      <td></td>\n",
       "    </tr>\n",
       "    <tr>\n",
       "      <th>1</th>\n",
       "      <td>36</td>\n",
       "      <td>3-K</td>\n",
       "      <td>VACA LECHERA 16% anulada no hacer</td>\n",
       "      <td>0</td>\n",
       "      <td></td>\n",
       "    </tr>\n",
       "    <tr>\n",
       "      <th>2</th>\n",
       "      <td>39</td>\n",
       "      <td>07-009</td>\n",
       "      <td>DEST. PRECOZ MEL. 0%A.A CASC DE SOJA</td>\n",
       "      <td>0</td>\n",
       "      <td></td>\n",
       "    </tr>\n",
       "    <tr>\n",
       "      <th>3</th>\n",
       "      <td>40</td>\n",
       "      <td>08-020</td>\n",
       "      <td>INICIADOR MELAZA (21 %A.A.)</td>\n",
       "      <td>0</td>\n",
       "      <td></td>\n",
       "    </tr>\n",
       "    <tr>\n",
       "      <th>4</th>\n",
       "      <td>41</td>\n",
       "      <td>09-H</td>\n",
       "      <td>C.M. URUGUAY REFORZADO 10%</td>\n",
       "      <td>0</td>\n",
       "      <td></td>\n",
       "    </tr>\n",
       "  </tbody>\n",
       "</table>\n",
       "</div>"
      ],
      "text/plain": [
       "   NroID  Codigo                                Nombre  melaza presentacion\n",
       "0     35    None           FIBROMIXER 300  19% A.A. -1       0             \n",
       "1     36     3-K     VACA LECHERA 16% anulada no hacer       0             \n",
       "2     39  07-009  DEST. PRECOZ MEL. 0%A.A CASC DE SOJA       0             \n",
       "3     40  08-020          INICIADOR MELAZA (21 %A.A.)        0             \n",
       "4     41    09-H            C.M. URUGUAY REFORZADO 10%       0             "
      ]
     },
     "execution_count": 7,
     "metadata": {},
     "output_type": "execute_result"
    }
   ],
   "source": [
    "df['melaza'] = 0\n",
    "df['presentacion'] = ''\n",
    "df.head()"
   ]
  },
  {
   "cell_type": "markdown",
   "id": "b5205d7a",
   "metadata": {},
   "source": [
    "## En Postgresql"
   ]
  },
  {
   "cell_type": "code",
   "execution_count": 8,
   "id": "8317c0b7",
   "metadata": {},
   "outputs": [],
   "source": [
    "import psycopg2\n",
    "\n",
    "# Conexión a la base de datos PostgreSQL\n",
    "conn_pg = psycopg2.connect(\n",
    "    host=\"192.168.0.12\",      # Cambia por la IP o hostname de tu servidor\n",
    "    database=\"db_gral\",  # Cambia por el nombre de tu base de datos\n",
    "    user=\"apsa\",        # Cambia por tu usuario\n",
    "    password=\"Apsa2812\"  # Cambia por tu contraseña\n",
    ")\n",
    "\n",
    "cur_pg = conn_pg.cursor()"
   ]
  },
  {
   "cell_type": "code",
   "execution_count": 9,
   "id": "87b6d9e6",
   "metadata": {},
   "outputs": [],
   "source": [
    "# Crear la tabla en PostgreSQL (si no existe)\n",
    "create_table_query = \"\"\"\n",
    "CREATE TABLE IF NOT EXISTS produccion.formulas (\n",
    "    NroID INTEGER PRIMARY KEY,\n",
    "    Codigo VARCHAR(50),\n",
    "    Nombre TEXT,\n",
    "    melaza INTEGER,\n",
    "    presentacion TEXT\n",
    ");\n",
    "\"\"\"\n",
    "cur_pg = conn_pg.cursor()\n",
    "cur_pg.execute(create_table_query)\n",
    "conn_pg.commit()"
   ]
  },
  {
   "cell_type": "code",
   "execution_count": 11,
   "id": "867fc455",
   "metadata": {},
   "outputs": [
    {
     "ename": "InFailedSqlTransaction",
     "evalue": "current transaction is aborted, commands ignored until end of transaction block\n",
     "output_type": "error",
     "traceback": [
      "\u001b[1;31m---------------------------------------------------------------------------\u001b[0m",
      "\u001b[1;31mInFailedSqlTransaction\u001b[0m                    Traceback (most recent call last)",
      "Cell \u001b[1;32mIn[11], line 10\u001b[0m\n\u001b[0;32m      7\u001b[0m output\u001b[38;5;241m.\u001b[39mseek(\u001b[38;5;241m0\u001b[39m)\n\u001b[0;32m      9\u001b[0m \u001b[38;5;66;03m# Usar COPY para cargar los datos\u001b[39;00m\n\u001b[1;32m---> 10\u001b[0m \u001b[43mcur_pg\u001b[49m\u001b[38;5;241;43m.\u001b[39;49m\u001b[43mcopy_from\u001b[49m\u001b[43m(\u001b[49m\u001b[43moutput\u001b[49m\u001b[43m,\u001b[49m\u001b[43m \u001b[49m\u001b[38;5;124;43m'\u001b[39;49m\u001b[38;5;124;43mproduccion.formulas\u001b[39;49m\u001b[38;5;124;43m'\u001b[39;49m\u001b[43m,\u001b[49m\u001b[43m \u001b[49m\u001b[43msep\u001b[49m\u001b[38;5;241;43m=\u001b[39;49m\u001b[38;5;124;43m'\u001b[39;49m\u001b[38;5;130;43;01m\\t\u001b[39;49;00m\u001b[38;5;124;43m'\u001b[39;49m\u001b[43m,\u001b[49m\u001b[43m \u001b[49m\u001b[43mnull\u001b[49m\u001b[38;5;241;43m=\u001b[39;49m\u001b[38;5;124;43m'\u001b[39;49m\u001b[38;5;130;43;01m\\\\\u001b[39;49;00m\u001b[38;5;124;43mN\u001b[39;49m\u001b[38;5;124;43m'\u001b[39;49m\u001b[43m,\u001b[49m\u001b[43m \u001b[49m\u001b[43mcolumns\u001b[49m\u001b[38;5;241;43m=\u001b[39;49m\u001b[43mdf\u001b[49m\u001b[38;5;241;43m.\u001b[39;49m\u001b[43mcolumns\u001b[49m\u001b[43m)\u001b[49m\n\u001b[0;32m     11\u001b[0m conn_pg\u001b[38;5;241m.\u001b[39mcommit()\n\u001b[0;32m     12\u001b[0m cur_pg\u001b[38;5;241m.\u001b[39mclose()\n",
      "\u001b[1;31mInFailedSqlTransaction\u001b[0m: current transaction is aborted, commands ignored until end of transaction block\n"
     ]
    }
   ],
   "source": [
    "# Insertar los datos del DataFrame en la tabla\n",
    "from io import StringIO\n",
    "\n",
    "# Convertir el DataFrame a CSV en memoria\n",
    "output = StringIO()\n",
    "df.to_csv(output, sep='\\t', header=False, index=False, na_rep='\\\\N')\n",
    "output.seek(0)\n",
    "\n",
    "# Usar COPY para cargar los datos\n",
    "cur_pg.copy_from(output, 'produccion.formulas', sep='\\t', null='\\\\N', columns=df.columns)\n",
    "conn_pg.commit()\n",
    "cur_pg.close()"
   ]
  }
 ],
 "metadata": {
  "kernelspec": {
   "display_name": ".venv (3.12.9)",
   "language": "python",
   "name": "python3"
  },
  "language_info": {
   "codemirror_mode": {
    "name": "ipython",
    "version": 3
   },
   "file_extension": ".py",
   "mimetype": "text/x-python",
   "name": "python",
   "nbconvert_exporter": "python",
   "pygments_lexer": "ipython3",
   "version": "3.12.10"
  }
 },
 "nbformat": 4,
 "nbformat_minor": 5
}
