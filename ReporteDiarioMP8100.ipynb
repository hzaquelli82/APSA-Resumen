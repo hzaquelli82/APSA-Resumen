{
 "cells": [
  {
   "cell_type": "markdown",
   "id": "ef189351",
   "metadata": {},
   "source": [
    "# Reporte de uso de MP para gestion de reposiscion"
   ]
  },
  {
   "cell_type": "code",
   "execution_count": 1,
   "id": "339b5531",
   "metadata": {},
   "outputs": [],
   "source": [
    "import MySQLdb\n",
    "from datetime import datetime, timedelta\n",
    "import pandas as pd\n",
    "\n",
    "db = MySQLdb.connect(host=\"192.168.0.12\",    # tu host, usualmente localhost\n",
    "                     user=\"operario\",         # tu usuario\n",
    "                     passwd=\"\",  # tu password\n",
    "                     db=\"dbp8100\")        # el nombre de la base de datos\n",
    "\n",
    "# Debes crear un objeto Cursor. Te permitirá\n",
    "# ejecutar todos los queries que necesitas\n",
    "cur = db.cursor()"
   ]
  },
  {
   "cell_type": "code",
   "execution_count": 2,
   "id": "e4835677",
   "metadata": {},
   "outputs": [],
   "source": [
    "fecha_actual = datetime.now()\n",
    "fecha_actual = fecha_actual.strftime(\"%Y-%m-%d\")"
   ]
  },
  {
   "cell_type": "code",
   "execution_count": 3,
   "id": "09feaf69",
   "metadata": {},
   "outputs": [],
   "source": [
    "fecha_ayer = datetime.now()\n",
    "fecha_ayer = fecha_ayer.strftime('%Y-%m-%d')"
   ]
  },
  {
   "cell_type": "code",
   "execution_count": 12,
   "id": "25a9d471",
   "metadata": {},
   "outputs": [],
   "source": [
    "fecha_actual = input(\"Ingrese la fecha actual (YYYY-MM-DD): \") or fecha_actual\n",
    "fecha_ayer = input(\"Ingrese la fecha de ayer (YYYY-MM-DD): \") or fecha_ayer"
   ]
  },
  {
   "cell_type": "code",
   "execution_count": null,
   "id": "b94bb1c2",
   "metadata": {},
   "outputs": [
    {
     "data": {
      "text/plain": [
       "18"
      ]
     },
     "execution_count": 13,
     "metadata": {},
     "output_type": "execute_result"
    }
   ],
   "source": [
    "cur.execute(\"\"\"\n",
    "    SELECT \n",
    "        productox.Codigo AS Codigo, \n",
    "        productox.Nombre AS Producto, \n",
    "        SUM(dcaptura.Valor) AS Dosificado \n",
    "    FROM \n",
    "        dbp8100.dcaptura AS dcaptura\n",
    "    JOIN \n",
    "        dbp8100.tareaseje AS tareaseje ON dcaptura.IDT = tareaseje.NroID\n",
    "    JOIN \n",
    "        dbp8100.productox AS productox ON productox.NroID = dcaptura.IDP \n",
    "    WHERE \n",
    "        (tareaseje.Fecha = %s AND tareaseje.Hora >= '23:00:00') OR \n",
    "        (tareaseje.Fecha > %s AND tareaseje.Fecha <= %s AND tareaseje.Hora < '23:00:00')\n",
    "    GROUP BY \n",
    "        productox.Nombre\n",
    "\"\"\", (fecha_ayer, fecha_ayer, fecha_actual))"
   ]
  },
  {
   "cell_type": "code",
   "execution_count": 14,
   "id": "3f7279ec",
   "metadata": {},
   "outputs": [],
   "source": [
    "# Obtener los resultados\n",
    "resultados = cur.fetchall()\n",
    "# Obtener los nombres de las columnas\n",
    "columnas = [desc[0] for desc in cur.description]\n",
    "\n",
    "# Crear un DataFrame de pandas\n",
    "df = pd.DataFrame(resultados, columns=columnas)\n",
    "df['Dosificado'] = df['Dosificado'] * -1  # Convertir a negativo"
   ]
  },
  {
   "cell_type": "code",
   "execution_count": 15,
   "id": "22b11163",
   "metadata": {},
   "outputs": [
    {
     "data": {
      "text/html": [
       "<div>\n",
       "<style scoped>\n",
       "    .dataframe tbody tr th:only-of-type {\n",
       "        vertical-align: middle;\n",
       "    }\n",
       "\n",
       "    .dataframe tbody tr th {\n",
       "        vertical-align: top;\n",
       "    }\n",
       "\n",
       "    .dataframe thead th {\n",
       "        text-align: right;\n",
       "    }\n",
       "</style>\n",
       "<table border=\"1\" class=\"dataframe\">\n",
       "  <thead>\n",
       "    <tr style=\"text-align: right;\">\n",
       "      <th></th>\n",
       "      <th>Codigo</th>\n",
       "      <th>Producto</th>\n",
       "      <th>Dosificado</th>\n",
       "    </tr>\n",
       "  </thead>\n",
       "  <tbody>\n",
       "    <tr>\n",
       "      <th>0</th>\n",
       "      <td>A-04-05</td>\n",
       "      <td>AFRECHILLO DE TRIGO</td>\n",
       "      <td>-7673.00</td>\n",
       "    </tr>\n",
       "    <tr>\n",
       "      <th>1</th>\n",
       "      <td>B-07</td>\n",
       "      <td>AFRECHO ARROZ</td>\n",
       "      <td>-15046.00</td>\n",
       "    </tr>\n",
       "    <tr>\n",
       "      <th>2</th>\n",
       "      <td>C-09</td>\n",
       "      <td>BIONUCLEO BOVINO 1%</td>\n",
       "      <td>-413.50</td>\n",
       "    </tr>\n",
       "    <tr>\n",
       "      <th>3</th>\n",
       "      <td>C-12</td>\n",
       "      <td>CARBONATO DE CALCIO</td>\n",
       "      <td>-1804.00</td>\n",
       "    </tr>\n",
       "    <tr>\n",
       "      <th>4</th>\n",
       "      <td>A-06</td>\n",
       "      <td>CASCARA ARROZ</td>\n",
       "      <td>-6109.00</td>\n",
       "    </tr>\n",
       "    <tr>\n",
       "      <th>5</th>\n",
       "      <td>C-12</td>\n",
       "      <td>CONCHILLA</td>\n",
       "      <td>-130.40</td>\n",
       "    </tr>\n",
       "    <tr>\n",
       "      <th>6</th>\n",
       "      <td>DESPT</td>\n",
       "      <td>DESPARASITAN-T</td>\n",
       "      <td>-0.90</td>\n",
       "    </tr>\n",
       "    <tr>\n",
       "      <th>7</th>\n",
       "      <td>A-03</td>\n",
       "      <td>EXP SOJA</td>\n",
       "      <td>-10846.00</td>\n",
       "    </tr>\n",
       "    <tr>\n",
       "      <th>8</th>\n",
       "      <td>D-14</td>\n",
       "      <td>LIGNOBOND DD</td>\n",
       "      <td>-155.95</td>\n",
       "    </tr>\n",
       "    <tr>\n",
       "      <th>9</th>\n",
       "      <td>A-02</td>\n",
       "      <td>MAIZ</td>\n",
       "      <td>-31852.00</td>\n",
       "    </tr>\n",
       "    <tr>\n",
       "      <th>10</th>\n",
       "      <td>NTG</td>\n",
       "      <td>NUTRAGEN</td>\n",
       "      <td>-3.00</td>\n",
       "    </tr>\n",
       "    <tr>\n",
       "      <th>11</th>\n",
       "      <td>A-08</td>\n",
       "      <td>PELLET AFRECHILLO DE TRIGO</td>\n",
       "      <td>-55503.00</td>\n",
       "    </tr>\n",
       "    <tr>\n",
       "      <th>12</th>\n",
       "      <td>A-18</td>\n",
       "      <td>REPROCESO</td>\n",
       "      <td>-1619.00</td>\n",
       "    </tr>\n",
       "    <tr>\n",
       "      <th>13</th>\n",
       "      <td>C-11</td>\n",
       "      <td>SAL</td>\n",
       "      <td>-2220.10</td>\n",
       "    </tr>\n",
       "    <tr>\n",
       "      <th>14</th>\n",
       "      <td>A-04</td>\n",
       "      <td>SORGO</td>\n",
       "      <td>-98.00</td>\n",
       "    </tr>\n",
       "    <tr>\n",
       "      <th>15</th>\n",
       "      <td>C-19</td>\n",
       "      <td>STARFEED DESARROLLO</td>\n",
       "      <td>-173.90</td>\n",
       "    </tr>\n",
       "    <tr>\n",
       "      <th>16</th>\n",
       "      <td>D-13</td>\n",
       "      <td>SUPLEFEED23</td>\n",
       "      <td>-236.40</td>\n",
       "    </tr>\n",
       "    <tr>\n",
       "      <th>17</th>\n",
       "      <td>C-10</td>\n",
       "      <td>UREA</td>\n",
       "      <td>-887.60</td>\n",
       "    </tr>\n",
       "  </tbody>\n",
       "</table>\n",
       "</div>"
      ],
      "text/plain": [
       "     Codigo                    Producto  Dosificado\n",
       "0   A-04-05        AFRECHILLO DE TRIGO     -7673.00\n",
       "1      B-07               AFRECHO ARROZ   -15046.00\n",
       "2      C-09         BIONUCLEO BOVINO 1%     -413.50\n",
       "3      C-12         CARBONATO DE CALCIO    -1804.00\n",
       "4      A-06               CASCARA ARROZ    -6109.00\n",
       "5      C-12                   CONCHILLA     -130.40\n",
       "6     DESPT              DESPARASITAN-T       -0.90\n",
       "7      A-03                    EXP SOJA   -10846.00\n",
       "8      D-14                LIGNOBOND DD     -155.95\n",
       "9      A-02                        MAIZ   -31852.00\n",
       "10      NTG                    NUTRAGEN       -3.00\n",
       "11     A-08  PELLET AFRECHILLO DE TRIGO   -55503.00\n",
       "12     A-18                  REPROCESO     -1619.00\n",
       "13     C-11                         SAL    -2220.10\n",
       "14     A-04                       SORGO      -98.00\n",
       "15     C-19         STARFEED DESARROLLO     -173.90\n",
       "16     D-13                 SUPLEFEED23     -236.40\n",
       "17     C-10                        UREA     -887.60"
      ]
     },
     "execution_count": 15,
     "metadata": {},
     "output_type": "execute_result"
    }
   ],
   "source": [
    "df"
   ]
  },
  {
   "cell_type": "code",
   "execution_count": null,
   "id": "e8d0edbc",
   "metadata": {},
   "outputs": [],
   "source": []
  }
 ],
 "metadata": {
  "kernelspec": {
   "display_name": ".venv (3.12.9)",
   "language": "python",
   "name": "python3"
  },
  "language_info": {
   "codemirror_mode": {
    "name": "ipython",
    "version": 3
   },
   "file_extension": ".py",
   "mimetype": "text/x-python",
   "name": "python",
   "nbconvert_exporter": "python",
   "pygments_lexer": "ipython3",
   "version": "3.12.9"
  }
 },
 "nbformat": 4,
 "nbformat_minor": 5
}
