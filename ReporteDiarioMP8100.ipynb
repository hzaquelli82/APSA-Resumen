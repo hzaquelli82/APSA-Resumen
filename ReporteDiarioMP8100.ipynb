{
 "cells": [
  {
   "cell_type": "markdown",
   "id": "ef189351",
   "metadata": {},
   "source": [
    "# Reporte de uso de MP para gestion de reposiscion"
   ]
  },
  {
   "cell_type": "code",
   "execution_count": 8,
   "id": "339b5531",
   "metadata": {},
   "outputs": [],
   "source": [
    "import MySQLdb\n",
    "from datetime import datetime, timedelta\n",
    "import pandas as pd\n",
    "\n",
    "db = MySQLdb.connect(host=\"192.168.0.12\",    # tu host, usualmente localhost\n",
    "                     user=\"operario\",         # tu usuario\n",
    "                     passwd=\"\",  # tu password\n",
    "                     db=\"dbp8100\")        # el nombre de la base de datos\n",
    "\n",
    "# Debes crear un objeto Cursor. Te permitirá\n",
    "# ejecutar todos los queries que necesitas\n",
    "cur = db.cursor()"
   ]
  },
  {
   "cell_type": "code",
   "execution_count": 9,
   "id": "e4835677",
   "metadata": {},
   "outputs": [],
   "source": [
    "fecha_actual = datetime.now()\n",
    "fecha_actual = fecha_actual.strftime(\"%Y-%m-%d\")"
   ]
  },
  {
   "cell_type": "code",
   "execution_count": 10,
   "id": "09feaf69",
   "metadata": {},
   "outputs": [],
   "source": [
    "fecha_ayer = datetime.now()\n",
    "fecha_ayer = fecha_ayer.strftime('%Y-%m-%d')"
   ]
  },
  {
   "cell_type": "code",
   "execution_count": 20,
   "id": "25a9d471",
   "metadata": {},
   "outputs": [],
   "source": [
    "fecha_actual = input(\"Ingrese la fecha actual (YYYY-MM-DD): \") or fecha_actual\n",
    "fecha_ayer = input(\"Ingrese la fecha de ayer (YYYY-MM-DD): \") or fecha_ayer"
   ]
  },
  {
   "cell_type": "code",
   "execution_count": 21,
   "id": "b94bb1c2",
   "metadata": {},
   "outputs": [
    {
     "data": {
      "text/plain": [
       "12"
      ]
     },
     "execution_count": 21,
     "metadata": {},
     "output_type": "execute_result"
    }
   ],
   "source": [
    "cur.execute(\"\"\"\n",
    "    SELECT \n",
    "        productox.Codigo AS Codigo, \n",
    "        productox.Nombre AS Producto, \n",
    "        SUM(dcaptura.Valor) AS Dosificado \n",
    "    FROM \n",
    "        dbp8100.dcaptura AS dcaptura\n",
    "    JOIN \n",
    "        dbp8100.tareaseje AS tareaseje ON dcaptura.IDT = tareaseje.NroID\n",
    "    JOIN \n",
    "        dbp8100.productox AS productox ON productox.NroID = dcaptura.IDP \n",
    "    WHERE \n",
    "        (tareaseje.Fecha = %s AND tareaseje.Hora >= '23:00:00') OR \n",
    "        (tareaseje.Fecha > %s AND tareaseje.Fecha <= %s AND tareaseje.Hora < '23:00:00')\n",
    "    GROUP BY \n",
    "        productox.Nombre\n",
    "\"\"\", (fecha_ayer, fecha_ayer, fecha_actual))"
   ]
  },
  {
   "cell_type": "code",
   "execution_count": 22,
   "id": "3f7279ec",
   "metadata": {},
   "outputs": [],
   "source": [
    "# Obtener los resultados\n",
    "resultados = cur.fetchall()\n",
    "# Obtener los nombres de las columnas\n",
    "columnas = [desc[0] for desc in cur.description]\n",
    "\n",
    "# Crear un DataFrame de pandas\n",
    "df = pd.DataFrame(resultados, columns=columnas)\n",
    "df['Dosificado'] = df['Dosificado'] * -1  # Convertir a negativo"
   ]
  },
  {
   "cell_type": "code",
   "execution_count": 23,
   "id": "22b11163",
   "metadata": {},
   "outputs": [
    {
     "data": {
      "text/html": [
       "<div>\n",
       "<style scoped>\n",
       "    .dataframe tbody tr th:only-of-type {\n",
       "        vertical-align: middle;\n",
       "    }\n",
       "\n",
       "    .dataframe tbody tr th {\n",
       "        vertical-align: top;\n",
       "    }\n",
       "\n",
       "    .dataframe thead th {\n",
       "        text-align: right;\n",
       "    }\n",
       "</style>\n",
       "<table border=\"1\" class=\"dataframe\">\n",
       "  <thead>\n",
       "    <tr style=\"text-align: right;\">\n",
       "      <th></th>\n",
       "      <th>Codigo</th>\n",
       "      <th>Producto</th>\n",
       "      <th>Dosificado</th>\n",
       "    </tr>\n",
       "  </thead>\n",
       "  <tbody>\n",
       "    <tr>\n",
       "      <th>0</th>\n",
       "      <td>B-07</td>\n",
       "      <td>AFRECHO ARROZ</td>\n",
       "      <td>-1343.7</td>\n",
       "    </tr>\n",
       "    <tr>\n",
       "      <th>1</th>\n",
       "      <td>C-12</td>\n",
       "      <td>CARBONATO DE CALCIO</td>\n",
       "      <td>-80.7</td>\n",
       "    </tr>\n",
       "    <tr>\n",
       "      <th>2</th>\n",
       "      <td>DESPT</td>\n",
       "      <td>DESPARASITAN-T</td>\n",
       "      <td>-1.8</td>\n",
       "    </tr>\n",
       "    <tr>\n",
       "      <th>3</th>\n",
       "      <td>A-03</td>\n",
       "      <td>EXP SOJA</td>\n",
       "      <td>-21624.0</td>\n",
       "    </tr>\n",
       "    <tr>\n",
       "      <th>4</th>\n",
       "      <td>C-19</td>\n",
       "      <td>MAGNUM 100</td>\n",
       "      <td>-48.8</td>\n",
       "    </tr>\n",
       "    <tr>\n",
       "      <th>5</th>\n",
       "      <td>A-02</td>\n",
       "      <td>MAIZ</td>\n",
       "      <td>-25458.0</td>\n",
       "    </tr>\n",
       "    <tr>\n",
       "      <th>6</th>\n",
       "      <td>C-19</td>\n",
       "      <td>MAXIMIX CERDAS REP PLUS 3.1</td>\n",
       "      <td>-68.5</td>\n",
       "    </tr>\n",
       "    <tr>\n",
       "      <th>7</th>\n",
       "      <td>A-08</td>\n",
       "      <td>PELLET AFRECHILLO DE TRIGO</td>\n",
       "      <td>-2300.0</td>\n",
       "    </tr>\n",
       "    <tr>\n",
       "      <th>8</th>\n",
       "      <td>C-11</td>\n",
       "      <td>SAL</td>\n",
       "      <td>-79.5</td>\n",
       "    </tr>\n",
       "    <tr>\n",
       "      <th>9</th>\n",
       "      <td>C-19</td>\n",
       "      <td>STARFEED DESARROLLO</td>\n",
       "      <td>-238.4</td>\n",
       "    </tr>\n",
       "    <tr>\n",
       "      <th>10</th>\n",
       "      <td>C-19</td>\n",
       "      <td>STARFEED TERMINACION</td>\n",
       "      <td>-200.1</td>\n",
       "    </tr>\n",
       "    <tr>\n",
       "      <th>11</th>\n",
       "      <td>B-07</td>\n",
       "      <td>VETIMIX 35</td>\n",
       "      <td>-2110.2</td>\n",
       "    </tr>\n",
       "  </tbody>\n",
       "</table>\n",
       "</div>"
      ],
      "text/plain": [
       "   Codigo                     Producto  Dosificado\n",
       "0    B-07                AFRECHO ARROZ     -1343.7\n",
       "1    C-12          CARBONATO DE CALCIO       -80.7\n",
       "2   DESPT               DESPARASITAN-T        -1.8\n",
       "3    A-03                     EXP SOJA    -21624.0\n",
       "4    C-19                   MAGNUM 100       -48.8\n",
       "5    A-02                         MAIZ    -25458.0\n",
       "6    C-19  MAXIMIX CERDAS REP PLUS 3.1       -68.5\n",
       "7    A-08   PELLET AFRECHILLO DE TRIGO     -2300.0\n",
       "8    C-11                          SAL       -79.5\n",
       "9    C-19          STARFEED DESARROLLO      -238.4\n",
       "10   C-19         STARFEED TERMINACION      -200.1\n",
       "11   B-07                   VETIMIX 35     -2110.2"
      ]
     },
     "execution_count": 23,
     "metadata": {},
     "output_type": "execute_result"
    }
   ],
   "source": [
    "df"
   ]
  },
  {
   "cell_type": "code",
   "execution_count": null,
   "id": "e8d0edbc",
   "metadata": {},
   "outputs": [],
   "source": []
  }
 ],
 "metadata": {
  "kernelspec": {
   "display_name": "myvenv",
   "language": "python",
   "name": "python3"
  },
  "language_info": {
   "codemirror_mode": {
    "name": "ipython",
    "version": 3
   },
   "file_extension": ".py",
   "mimetype": "text/x-python",
   "name": "python",
   "nbconvert_exporter": "python",
   "pygments_lexer": "ipython3",
   "version": "3.12.11"
  }
 },
 "nbformat": 4,
 "nbformat_minor": 5
}
