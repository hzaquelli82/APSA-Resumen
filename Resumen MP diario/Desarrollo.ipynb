{
 "cells": [
  {
   "cell_type": "markdown",
   "metadata": {},
   "source": [
    "## Descargar datos de JVP   "
   ]
  },
  {
   "cell_type": "code",
   "execution_count": 18,
   "metadata": {},
   "outputs": [],
   "source": [
    "import MySQLdb\n",
    "from datetime import datetime, timedelta\n",
    "import pandas as pd\n",
    "\n",
    "db = MySQLdb.connect(host=\"192.168.0.12\",    # tu host, usualmente localhost\n",
    "                     user=\"operario\",         # tu usuario\n",
    "                     passwd=\"\",  # tu password\n",
    "                     db=\"dbp8100\")        # el nombre de la base de datos\n",
    "\n",
    "# Debes crear un objeto Cursor. Te permitirá\n",
    "# ejecutar todos los queries que necesitas\n",
    "cur = db.cursor()\n"
   ]
  },
  {
   "cell_type": "code",
   "execution_count": 20,
   "metadata": {},
   "outputs": [],
   "source": [
    "fecha_actual = datetime.now()\n",
    "fecha_actual = fecha_actual.strftime(\"%Y-%m-%d\")"
   ]
  },
  {
   "cell_type": "code",
   "execution_count": 9,
   "metadata": {},
   "outputs": [],
   "source": [
    "fecha_ayer = datetime.now()\n",
    "fecha_ayer = fecha_ayer.strftime('%Y-%m-%d')"
   ]
  },
  {
   "cell_type": "code",
   "execution_count": 25,
   "metadata": {},
   "outputs": [
    {
     "data": {
      "text/plain": [
       "13"
      ]
     },
     "execution_count": 25,
     "metadata": {},
     "output_type": "execute_result"
    }
   ],
   "source": [
    "cur.execute(\"\"\"\n",
    "    SELECT \n",
    "        productox.Codigo AS Codigo, \n",
    "        productox.Nombre AS Producto, \n",
    "        SUM(dcaptura.Valor) AS Dosificado \n",
    "    FROM \n",
    "        dbp8100.dcaptura AS dcaptura\n",
    "    JOIN \n",
    "        dbp8100.tareaseje AS tareaseje ON dcaptura.IDT = tareaseje.NroID\n",
    "    JOIN \n",
    "        dbp8100.productox AS productox ON productox.NroID = dcaptura.IDP \n",
    "    WHERE \n",
    "        tareaseje.Fecha >= %s AND \n",
    "        tareaseje.Fecha <= %s \n",
    "    GROUP BY \n",
    "        productox.Nombre\n",
    "\"\"\", (fecha_ayer, fecha_actual))"
   ]
  },
  {
   "cell_type": "code",
   "execution_count": 26,
   "metadata": {},
   "outputs": [
    {
     "name": "stdout",
     "output_type": "stream",
     "text": [
      "(('B-07', 'AFRECHO ARROZ', 8711.2), ('C-19', 'BENTONITA', 1301.0), ('C-12', 'CARBONATO DE CALCIO', 862.2), ('A-06', 'CASCARA ARROZ', 1892.0), ('A-04', 'EXP SOJA', 5327.0), ('A-02', 'MAIZ', 18541.0), ('A-01', 'PELLET AFRECHILLO DE TRIGO', 28557.0), ('A-03', 'PELLET DE GIRASOL', 1733.0), ('C-11', 'SAL', 1117.4), ('D-13', 'SUPLEFEED23', 114.2), ('C-19', 'tK DESARROLLO 2,5%', 245.9), ('A-05', 'TRIGO (para balanceado)', 3757.0), ('C-10', 'UREA', 333.8))\n"
     ]
    }
   ],
   "source": [
    "# Obtener los resultados\n",
    "resultados = cur.fetchall()\n",
    "print(resultados)"
   ]
  },
  {
   "cell_type": "code",
   "execution_count": 27,
   "metadata": {},
   "outputs": [
    {
     "name": "stdout",
     "output_type": "stream",
     "text": [
      "   Codigo                    Producto  Dosificado\n",
      "0    B-07               AFRECHO ARROZ      8711.2\n",
      "1    C-19                   BENTONITA      1301.0\n",
      "2    C-12         CARBONATO DE CALCIO       862.2\n",
      "3    A-06               CASCARA ARROZ      1892.0\n",
      "4    A-04                    EXP SOJA      5327.0\n",
      "5    A-02                        MAIZ     18541.0\n",
      "6    A-01  PELLET AFRECHILLO DE TRIGO     28557.0\n",
      "7    A-03           PELLET DE GIRASOL      1733.0\n",
      "8    C-11                         SAL      1117.4\n",
      "9    D-13                 SUPLEFEED23       114.2\n",
      "10   C-19          tK DESARROLLO 2,5%       245.9\n",
      "11   A-05     TRIGO (para balanceado)      3757.0\n",
      "12   C-10                        UREA       333.8\n"
     ]
    }
   ],
   "source": [
    "\n",
    "# Obtener los nombres de las columnas\n",
    "columnas = [desc[0] for desc in cur.description]\n",
    "\n",
    "# Crear un DataFrame de pandas\n",
    "df = pd.DataFrame(resultados, columns=columnas)\n",
    "\n",
    "# Cerrar el cursor y la conexión\n",
    "cur.close()\n",
    "db.close()\n",
    "\n",
    "# Mostrar el DataFrame\n",
    "print(df)"
   ]
  },
  {
   "cell_type": "markdown",
   "metadata": {},
   "source": [
    "## Cargar códigos"
   ]
  },
  {
   "cell_type": "code",
   "execution_count": 13,
   "metadata": {},
   "outputs": [
    {
     "data": {
      "text/html": [
       "<div>\n",
       "<style scoped>\n",
       "    .dataframe tbody tr th:only-of-type {\n",
       "        vertical-align: middle;\n",
       "    }\n",
       "\n",
       "    .dataframe tbody tr th {\n",
       "        vertical-align: top;\n",
       "    }\n",
       "\n",
       "    .dataframe thead th {\n",
       "        text-align: right;\n",
       "    }\n",
       "</style>\n",
       "<table border=\"1\" class=\"dataframe\">\n",
       "  <thead>\n",
       "    <tr style=\"text-align: right;\">\n",
       "      <th></th>\n",
       "      <th>Producto</th>\n",
       "      <th>Cod</th>\n",
       "    </tr>\n",
       "  </thead>\n",
       "  <tbody>\n",
       "    <tr>\n",
       "      <th>0</th>\n",
       "      <td>ACEITE DE SOJA</td>\n",
       "      <td>NaN</td>\n",
       "    </tr>\n",
       "    <tr>\n",
       "      <th>1</th>\n",
       "      <td>ACID-PACK</td>\n",
       "      <td>NaN</td>\n",
       "    </tr>\n",
       "    <tr>\n",
       "      <th>2</th>\n",
       "      <td>ACTIGEN</td>\n",
       "      <td>NaN</td>\n",
       "    </tr>\n",
       "    <tr>\n",
       "      <th>3</th>\n",
       "      <td>ACTIVATE (METIONINA)</td>\n",
       "      <td>NaN</td>\n",
       "    </tr>\n",
       "    <tr>\n",
       "      <th>4</th>\n",
       "      <td>ADITIVO BIOTOX</td>\n",
       "      <td>NaN</td>\n",
       "    </tr>\n",
       "    <tr>\n",
       "      <th>5</th>\n",
       "      <td>AFRECHILLO DE TRIGO</td>\n",
       "      <td>AFTR0</td>\n",
       "    </tr>\n",
       "    <tr>\n",
       "      <th>6</th>\n",
       "      <td>AFRECHO ARROZ</td>\n",
       "      <td>AA0</td>\n",
       "    </tr>\n",
       "    <tr>\n",
       "      <th>7</th>\n",
       "      <td>ALFAZOLE</td>\n",
       "      <td>NaN</td>\n",
       "    </tr>\n",
       "    <tr>\n",
       "      <th>8</th>\n",
       "      <td>ALL-MIC</td>\n",
       "      <td>NaN</td>\n",
       "    </tr>\n",
       "    <tr>\n",
       "      <th>9</th>\n",
       "      <td>ALLMIC</td>\n",
       "      <td>NaN</td>\n",
       "    </tr>\n",
       "  </tbody>\n",
       "</table>\n",
       "</div>"
      ],
      "text/plain": [
       "               Producto    Cod\n",
       "0        ACEITE DE SOJA    NaN\n",
       "1             ACID-PACK    NaN\n",
       "2               ACTIGEN    NaN\n",
       "3  ACTIVATE (METIONINA)    NaN\n",
       "4        ADITIVO BIOTOX    NaN\n",
       "5  AFRECHILLO DE TRIGO   AFTR0\n",
       "6         AFRECHO ARROZ    AA0\n",
       "7              ALFAZOLE    NaN\n",
       "8               ALL-MIC    NaN\n",
       "9                ALLMIC    NaN"
      ]
     },
     "execution_count": 13,
     "metadata": {},
     "output_type": "execute_result"
    }
   ],
   "source": [
    "df_cod = pd.read_excel('codigos.xlsx')\n",
    "df_cod.head(10)"
   ]
  },
  {
   "cell_type": "code",
   "execution_count": 14,
   "metadata": {},
   "outputs": [
    {
     "data": {
      "text/html": [
       "<div>\n",
       "<style scoped>\n",
       "    .dataframe tbody tr th:only-of-type {\n",
       "        vertical-align: middle;\n",
       "    }\n",
       "\n",
       "    .dataframe tbody tr th {\n",
       "        vertical-align: top;\n",
       "    }\n",
       "\n",
       "    .dataframe thead th {\n",
       "        text-align: right;\n",
       "    }\n",
       "</style>\n",
       "<table border=\"1\" class=\"dataframe\">\n",
       "  <thead>\n",
       "    <tr style=\"text-align: right;\">\n",
       "      <th></th>\n",
       "      <th>Codigo</th>\n",
       "      <th>Producto</th>\n",
       "      <th>Dosificado</th>\n",
       "      <th>Cod</th>\n",
       "    </tr>\n",
       "  </thead>\n",
       "  <tbody>\n",
       "    <tr>\n",
       "      <th>0</th>\n",
       "      <td>B-07</td>\n",
       "      <td>AFRECHO ARROZ</td>\n",
       "      <td>8711.2</td>\n",
       "      <td>AA0</td>\n",
       "    </tr>\n",
       "    <tr>\n",
       "      <th>1</th>\n",
       "      <td>C-19</td>\n",
       "      <td>BENTONITA</td>\n",
       "      <td>1301.0</td>\n",
       "      <td>NaN</td>\n",
       "    </tr>\n",
       "    <tr>\n",
       "      <th>2</th>\n",
       "      <td>C-12</td>\n",
       "      <td>CARBONATO DE CALCIO</td>\n",
       "      <td>862.2</td>\n",
       "      <td>NaN</td>\n",
       "    </tr>\n",
       "    <tr>\n",
       "      <th>3</th>\n",
       "      <td>A-06</td>\n",
       "      <td>CASCARA ARROZ</td>\n",
       "      <td>1892.0</td>\n",
       "      <td>CA0</td>\n",
       "    </tr>\n",
       "    <tr>\n",
       "      <th>4</th>\n",
       "      <td>A-04</td>\n",
       "      <td>EXP SOJA</td>\n",
       "      <td>5327.0</td>\n",
       "      <td>NaN</td>\n",
       "    </tr>\n",
       "    <tr>\n",
       "      <th>5</th>\n",
       "      <td>A-02</td>\n",
       "      <td>MAIZ</td>\n",
       "      <td>18541.0</td>\n",
       "      <td>19</td>\n",
       "    </tr>\n",
       "    <tr>\n",
       "      <th>6</th>\n",
       "      <td>A-01</td>\n",
       "      <td>PELLET AFRECHILLO DE TRIGO</td>\n",
       "      <td>28557.0</td>\n",
       "      <td>PET0</td>\n",
       "    </tr>\n",
       "    <tr>\n",
       "      <th>7</th>\n",
       "      <td>A-03</td>\n",
       "      <td>PELLET DE GIRASOL</td>\n",
       "      <td>1733.0</td>\n",
       "      <td>NaN</td>\n",
       "    </tr>\n",
       "    <tr>\n",
       "      <th>8</th>\n",
       "      <td>C-11</td>\n",
       "      <td>SAL</td>\n",
       "      <td>1117.4</td>\n",
       "      <td>NaN</td>\n",
       "    </tr>\n",
       "    <tr>\n",
       "      <th>9</th>\n",
       "      <td>D-13</td>\n",
       "      <td>SUPLEFEED23</td>\n",
       "      <td>114.2</td>\n",
       "      <td>NaN</td>\n",
       "    </tr>\n",
       "  </tbody>\n",
       "</table>\n",
       "</div>"
      ],
      "text/plain": [
       "  Codigo                    Producto  Dosificado   Cod\n",
       "0   B-07               AFRECHO ARROZ      8711.2   AA0\n",
       "1   C-19                   BENTONITA      1301.0   NaN\n",
       "2   C-12         CARBONATO DE CALCIO       862.2   NaN\n",
       "3   A-06               CASCARA ARROZ      1892.0   CA0\n",
       "4   A-04                    EXP SOJA      5327.0   NaN\n",
       "5   A-02                        MAIZ     18541.0    19\n",
       "6   A-01  PELLET AFRECHILLO DE TRIGO     28557.0  PET0\n",
       "7   A-03           PELLET DE GIRASOL      1733.0   NaN\n",
       "8   C-11                         SAL      1117.4   NaN\n",
       "9   D-13                 SUPLEFEED23       114.2   NaN"
      ]
     },
     "execution_count": 14,
     "metadata": {},
     "output_type": "execute_result"
    }
   ],
   "source": [
    "df_result = pd.merge(df, df_cod, on='Producto')\n",
    "df_result.head(10)"
   ]
  },
  {
   "cell_type": "code",
   "execution_count": 15,
   "metadata": {},
   "outputs": [
    {
     "data": {
      "text/html": [
       "<div>\n",
       "<style scoped>\n",
       "    .dataframe tbody tr th:only-of-type {\n",
       "        vertical-align: middle;\n",
       "    }\n",
       "\n",
       "    .dataframe tbody tr th {\n",
       "        vertical-align: top;\n",
       "    }\n",
       "\n",
       "    .dataframe thead th {\n",
       "        text-align: right;\n",
       "    }\n",
       "</style>\n",
       "<table border=\"1\" class=\"dataframe\">\n",
       "  <thead>\n",
       "    <tr style=\"text-align: right;\">\n",
       "      <th></th>\n",
       "      <th>Cod</th>\n",
       "      <th>Dosificado</th>\n",
       "    </tr>\n",
       "  </thead>\n",
       "  <tbody>\n",
       "    <tr>\n",
       "      <th>0</th>\n",
       "      <td>AA0</td>\n",
       "      <td>8711.2</td>\n",
       "    </tr>\n",
       "    <tr>\n",
       "      <th>3</th>\n",
       "      <td>CA0</td>\n",
       "      <td>1892.0</td>\n",
       "    </tr>\n",
       "    <tr>\n",
       "      <th>5</th>\n",
       "      <td>19</td>\n",
       "      <td>18541.0</td>\n",
       "    </tr>\n",
       "    <tr>\n",
       "      <th>6</th>\n",
       "      <td>PET0</td>\n",
       "      <td>28557.0</td>\n",
       "    </tr>\n",
       "  </tbody>\n",
       "</table>\n",
       "</div>"
      ],
      "text/plain": [
       "    Cod  Dosificado\n",
       "0   AA0      8711.2\n",
       "3   CA0      1892.0\n",
       "5    19     18541.0\n",
       "6  PET0     28557.0"
      ]
     },
     "execution_count": 15,
     "metadata": {},
     "output_type": "execute_result"
    }
   ],
   "source": [
    "df_result.dropna(inplace=True)\n",
    "df_result.drop(['Codigo','Producto'], axis=1, inplace=True)\n",
    "df_result = df_result[['Cod','Dosificado']]\n",
    "df_result.head(10)"
   ]
  },
  {
   "cell_type": "code",
   "execution_count": 16,
   "metadata": {},
   "outputs": [
    {
     "name": "stdout",
     "output_type": "stream",
     "text": [
      "La carpeta 'ReporteDiario' ya existe.\n"
     ]
    }
   ],
   "source": [
    "import os\n",
    "\n",
    "# Especificamos la ruta de la carpeta que deseamos crear\n",
    "ruta_carpeta = 'ReporteDiario'\n",
    "\n",
    "# Verificamos si la carpeta ya existe\n",
    "if not os.path.exists(ruta_carpeta):\n",
    "    # Creamos la carpeta si no existe\n",
    "    os.mkdir(ruta_carpeta)\n",
    "    print(f\"La carpeta '{ruta_carpeta}' ha sido creada con éxito.\")\n",
    "else:\n",
    "    print(f\"La carpeta '{ruta_carpeta}' ya existe.\")"
   ]
  },
  {
   "cell_type": "code",
   "execution_count": 17,
   "metadata": {},
   "outputs": [],
   "source": [
    "# Obtenemos la fecha actual\n",
    "fecha_actual = datetime.now().strftime(\"%Y-%m-%d\")\n",
    "\n",
    "# Exportamos el DataFrame a un archivo de Excel\n",
    "df_result.to_excel(f\"ReporteDiario/{fecha_actual}.xlsx\", index=False)"
   ]
  }
 ],
 "metadata": {
  "kernelspec": {
   "display_name": ".venv",
   "language": "python",
   "name": "python3"
  },
  "language_info": {
   "codemirror_mode": {
    "name": "ipython",
    "version": 3
   },
   "file_extension": ".py",
   "mimetype": "text/x-python",
   "name": "python",
   "nbconvert_exporter": "python",
   "pygments_lexer": "ipython3",
   "version": "3.12.8"
  }
 },
 "nbformat": 4,
 "nbformat_minor": 2
}
